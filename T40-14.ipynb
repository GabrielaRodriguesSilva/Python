{
  "nbformat": 4,
  "nbformat_minor": 0,
  "metadata": {
    "colab": {
      "name": "T40-14.ipynb",
      "provenance": [],
      "collapsed_sections": []
    },
    "kernelspec": {
      "name": "python3",
      "display_name": "Python 3"
    },
    "language_info": {
      "name": "python"
    }
  },
  "cells": [
    {
      "cell_type": "markdown",
      "source": [
        "# Regressão Linear\n"
      ],
      "metadata": {
        "id": "Y312JDNv-gVU"
      }
    },
    {
      "cell_type": "markdown",
      "source": [
        "<center>\n",
        "<img src=\"https://www.edsonmelo.com.br/dados_csv/images/reg-linear1.png\" alt=\"reg-linear\" style=\"width: 400px;\"/>\n",
        "</center>"
      ],
      "metadata": {
        "id": "cbKXwT-N_GHg"
      }
    },
    {
      "cell_type": "markdown",
      "source": [
        "$$ \\hat{y} = \\theta_0 + \\theta_1 x_1 + \\theta_2 x_2 + \\dots \\theta_n x_n$$\n",
        "\n",
        "$\\hat{y}$ - valor previsto\n",
        "\n",
        "$\\theta$ - parâmetro do modelo\n",
        "\n",
        "$n$ - número de atributos (*features*)\n",
        "\n",
        "$x_i$ - o valor do *inésimo* atributo (*feature*)"
      ],
      "metadata": {
        "id": "eSKunB6w_M4J"
      }
    },
    {
      "cell_type": "markdown",
      "source": [
        "### Exemplo\n",
        "\n",
        "$\\mathrm{preço~de~residência} = 4500 + 1000\\times \\mathrm{quartos} + 120 \\times \\mathrm{m}^2 + 3000 \\times \\mathrm{banheiros}$"
      ],
      "metadata": {
        "id": "gg4tRfjCADqx"
      }
    },
    {
      "cell_type": "code",
      "source": [
        "import pandas as pd\n",
        "import numpy as np\n",
        "import matplotlib.pyplot as plt\n",
        "from sklearn import linear_model\n",
        "\n",
        "import warnings\n",
        "warnings.filterwarnings('ignore')"
      ],
      "metadata": {
        "id": "z7bNQgBL_J_0"
      },
      "execution_count": null,
      "outputs": []
    },
    {
      "cell_type": "code",
      "source": [
        "# Criando um DataFrame (Horas de Estudo versus Nota Obtida)\n",
        "df = pd.DataFrame()\n",
        "\n",
        "# Horas de Estudo\n",
        "df['x'] = [5.1, 5.5, 5.9, 6.5, 6.8, 7.6, 8.3, 8.5, 9.1, 9.5]\n",
        "\n",
        "# Nota Obtida\n",
        "df['y'] = [2.0, 2.9, 4.0, 5.9, 6.0, 6.9, 8.0, 9.0, 9.9, 10.0]\n",
        "\n",
        "x_values = df[['x']] # Entrada\n",
        "y_values = df[['y']] # Saída"
      ],
      "metadata": {
        "id": "JHZ97NWcB5B3"
      },
      "execution_count": null,
      "outputs": []
    },
    {
      "cell_type": "code",
      "source": [
        "# x_values\n",
        "# y_values"
      ],
      "metadata": {
        "id": "zhmrYlIHC3Z4"
      },
      "execution_count": null,
      "outputs": []
    },
    {
      "cell_type": "code",
      "source": [
        "df.head()"
      ],
      "metadata": {
        "colab": {
          "base_uri": "https://localhost:8080/",
          "height": 206
        },
        "id": "qJ7D1AiPDbYj",
        "outputId": "77e4e8b2-1c97-426a-fdab-ed0c1c043c30"
      },
      "execution_count": null,
      "outputs": [
        {
          "output_type": "execute_result",
          "data": {
            "text/plain": [
              "     x    y\n",
              "0  5.1  2.0\n",
              "1  5.5  2.9\n",
              "2  5.9  4.0\n",
              "3  6.5  5.9\n",
              "4  6.8  6.0"
            ],
            "text/html": [
              "\n",
              "  <div id=\"df-b6055cde-1d26-4727-9546-18f1ad4824b7\">\n",
              "    <div class=\"colab-df-container\">\n",
              "      <div>\n",
              "<style scoped>\n",
              "    .dataframe tbody tr th:only-of-type {\n",
              "        vertical-align: middle;\n",
              "    }\n",
              "\n",
              "    .dataframe tbody tr th {\n",
              "        vertical-align: top;\n",
              "    }\n",
              "\n",
              "    .dataframe thead th {\n",
              "        text-align: right;\n",
              "    }\n",
              "</style>\n",
              "<table border=\"1\" class=\"dataframe\">\n",
              "  <thead>\n",
              "    <tr style=\"text-align: right;\">\n",
              "      <th></th>\n",
              "      <th>x</th>\n",
              "      <th>y</th>\n",
              "    </tr>\n",
              "  </thead>\n",
              "  <tbody>\n",
              "    <tr>\n",
              "      <th>0</th>\n",
              "      <td>5.1</td>\n",
              "      <td>2.0</td>\n",
              "    </tr>\n",
              "    <tr>\n",
              "      <th>1</th>\n",
              "      <td>5.5</td>\n",
              "      <td>2.9</td>\n",
              "    </tr>\n",
              "    <tr>\n",
              "      <th>2</th>\n",
              "      <td>5.9</td>\n",
              "      <td>4.0</td>\n",
              "    </tr>\n",
              "    <tr>\n",
              "      <th>3</th>\n",
              "      <td>6.5</td>\n",
              "      <td>5.9</td>\n",
              "    </tr>\n",
              "    <tr>\n",
              "      <th>4</th>\n",
              "      <td>6.8</td>\n",
              "      <td>6.0</td>\n",
              "    </tr>\n",
              "  </tbody>\n",
              "</table>\n",
              "</div>\n",
              "      <button class=\"colab-df-convert\" onclick=\"convertToInteractive('df-b6055cde-1d26-4727-9546-18f1ad4824b7')\"\n",
              "              title=\"Convert this dataframe to an interactive table.\"\n",
              "              style=\"display:none;\">\n",
              "        \n",
              "  <svg xmlns=\"http://www.w3.org/2000/svg\" height=\"24px\"viewBox=\"0 0 24 24\"\n",
              "       width=\"24px\">\n",
              "    <path d=\"M0 0h24v24H0V0z\" fill=\"none\"/>\n",
              "    <path d=\"M18.56 5.44l.94 2.06.94-2.06 2.06-.94-2.06-.94-.94-2.06-.94 2.06-2.06.94zm-11 1L8.5 8.5l.94-2.06 2.06-.94-2.06-.94L8.5 2.5l-.94 2.06-2.06.94zm10 10l.94 2.06.94-2.06 2.06-.94-2.06-.94-.94-2.06-.94 2.06-2.06.94z\"/><path d=\"M17.41 7.96l-1.37-1.37c-.4-.4-.92-.59-1.43-.59-.52 0-1.04.2-1.43.59L10.3 9.45l-7.72 7.72c-.78.78-.78 2.05 0 2.83L4 21.41c.39.39.9.59 1.41.59.51 0 1.02-.2 1.41-.59l7.78-7.78 2.81-2.81c.8-.78.8-2.07 0-2.86zM5.41 20L4 18.59l7.72-7.72 1.47 1.35L5.41 20z\"/>\n",
              "  </svg>\n",
              "      </button>\n",
              "      \n",
              "  <style>\n",
              "    .colab-df-container {\n",
              "      display:flex;\n",
              "      flex-wrap:wrap;\n",
              "      gap: 12px;\n",
              "    }\n",
              "\n",
              "    .colab-df-convert {\n",
              "      background-color: #E8F0FE;\n",
              "      border: none;\n",
              "      border-radius: 50%;\n",
              "      cursor: pointer;\n",
              "      display: none;\n",
              "      fill: #1967D2;\n",
              "      height: 32px;\n",
              "      padding: 0 0 0 0;\n",
              "      width: 32px;\n",
              "    }\n",
              "\n",
              "    .colab-df-convert:hover {\n",
              "      background-color: #E2EBFA;\n",
              "      box-shadow: 0px 1px 2px rgba(60, 64, 67, 0.3), 0px 1px 3px 1px rgba(60, 64, 67, 0.15);\n",
              "      fill: #174EA6;\n",
              "    }\n",
              "\n",
              "    [theme=dark] .colab-df-convert {\n",
              "      background-color: #3B4455;\n",
              "      fill: #D2E3FC;\n",
              "    }\n",
              "\n",
              "    [theme=dark] .colab-df-convert:hover {\n",
              "      background-color: #434B5C;\n",
              "      box-shadow: 0px 1px 3px 1px rgba(0, 0, 0, 0.15);\n",
              "      filter: drop-shadow(0px 1px 2px rgba(0, 0, 0, 0.3));\n",
              "      fill: #FFFFFF;\n",
              "    }\n",
              "  </style>\n",
              "\n",
              "      <script>\n",
              "        const buttonEl =\n",
              "          document.querySelector('#df-b6055cde-1d26-4727-9546-18f1ad4824b7 button.colab-df-convert');\n",
              "        buttonEl.style.display =\n",
              "          google.colab.kernel.accessAllowed ? 'block' : 'none';\n",
              "\n",
              "        async function convertToInteractive(key) {\n",
              "          const element = document.querySelector('#df-b6055cde-1d26-4727-9546-18f1ad4824b7');\n",
              "          const dataTable =\n",
              "            await google.colab.kernel.invokeFunction('convertToInteractive',\n",
              "                                                     [key], {});\n",
              "          if (!dataTable) return;\n",
              "\n",
              "          const docLinkHtml = 'Like what you see? Visit the ' +\n",
              "            '<a target=\"_blank\" href=https://colab.research.google.com/notebooks/data_table.ipynb>data table notebook</a>'\n",
              "            + ' to learn more about interactive tables.';\n",
              "          element.innerHTML = '';\n",
              "          dataTable['output_type'] = 'display_data';\n",
              "          await google.colab.output.renderOutput(dataTable, element);\n",
              "          const docLink = document.createElement('div');\n",
              "          docLink.innerHTML = docLinkHtml;\n",
              "          element.appendChild(docLink);\n",
              "        }\n",
              "      </script>\n",
              "    </div>\n",
              "  </div>\n",
              "  "
            ]
          },
          "metadata": {},
          "execution_count": 3
        }
      ]
    },
    {
      "cell_type": "code",
      "source": [
        "df.describe()"
      ],
      "metadata": {
        "colab": {
          "base_uri": "https://localhost:8080/",
          "height": 300
        },
        "id": "HRjjm_JZDnG6",
        "outputId": "8c87e94a-44de-43df-d957-2e63473e82d4"
      },
      "execution_count": null,
      "outputs": [
        {
          "output_type": "execute_result",
          "data": {
            "text/plain": [
              "               x          y\n",
              "count  10.000000  10.000000\n",
              "mean    7.280000   6.460000\n",
              "std     1.546897   2.838701\n",
              "min     5.100000   2.000000\n",
              "25%     6.050000   4.475000\n",
              "50%     7.200000   6.450000\n",
              "75%     8.450000   8.750000\n",
              "max     9.500000  10.000000"
            ],
            "text/html": [
              "\n",
              "  <div id=\"df-c32fef3b-2b64-4581-863e-12d4a94c4fcc\">\n",
              "    <div class=\"colab-df-container\">\n",
              "      <div>\n",
              "<style scoped>\n",
              "    .dataframe tbody tr th:only-of-type {\n",
              "        vertical-align: middle;\n",
              "    }\n",
              "\n",
              "    .dataframe tbody tr th {\n",
              "        vertical-align: top;\n",
              "    }\n",
              "\n",
              "    .dataframe thead th {\n",
              "        text-align: right;\n",
              "    }\n",
              "</style>\n",
              "<table border=\"1\" class=\"dataframe\">\n",
              "  <thead>\n",
              "    <tr style=\"text-align: right;\">\n",
              "      <th></th>\n",
              "      <th>x</th>\n",
              "      <th>y</th>\n",
              "    </tr>\n",
              "  </thead>\n",
              "  <tbody>\n",
              "    <tr>\n",
              "      <th>count</th>\n",
              "      <td>10.000000</td>\n",
              "      <td>10.000000</td>\n",
              "    </tr>\n",
              "    <tr>\n",
              "      <th>mean</th>\n",
              "      <td>7.280000</td>\n",
              "      <td>6.460000</td>\n",
              "    </tr>\n",
              "    <tr>\n",
              "      <th>std</th>\n",
              "      <td>1.546897</td>\n",
              "      <td>2.838701</td>\n",
              "    </tr>\n",
              "    <tr>\n",
              "      <th>min</th>\n",
              "      <td>5.100000</td>\n",
              "      <td>2.000000</td>\n",
              "    </tr>\n",
              "    <tr>\n",
              "      <th>25%</th>\n",
              "      <td>6.050000</td>\n",
              "      <td>4.475000</td>\n",
              "    </tr>\n",
              "    <tr>\n",
              "      <th>50%</th>\n",
              "      <td>7.200000</td>\n",
              "      <td>6.450000</td>\n",
              "    </tr>\n",
              "    <tr>\n",
              "      <th>75%</th>\n",
              "      <td>8.450000</td>\n",
              "      <td>8.750000</td>\n",
              "    </tr>\n",
              "    <tr>\n",
              "      <th>max</th>\n",
              "      <td>9.500000</td>\n",
              "      <td>10.000000</td>\n",
              "    </tr>\n",
              "  </tbody>\n",
              "</table>\n",
              "</div>\n",
              "      <button class=\"colab-df-convert\" onclick=\"convertToInteractive('df-c32fef3b-2b64-4581-863e-12d4a94c4fcc')\"\n",
              "              title=\"Convert this dataframe to an interactive table.\"\n",
              "              style=\"display:none;\">\n",
              "        \n",
              "  <svg xmlns=\"http://www.w3.org/2000/svg\" height=\"24px\"viewBox=\"0 0 24 24\"\n",
              "       width=\"24px\">\n",
              "    <path d=\"M0 0h24v24H0V0z\" fill=\"none\"/>\n",
              "    <path d=\"M18.56 5.44l.94 2.06.94-2.06 2.06-.94-2.06-.94-.94-2.06-.94 2.06-2.06.94zm-11 1L8.5 8.5l.94-2.06 2.06-.94-2.06-.94L8.5 2.5l-.94 2.06-2.06.94zm10 10l.94 2.06.94-2.06 2.06-.94-2.06-.94-.94-2.06-.94 2.06-2.06.94z\"/><path d=\"M17.41 7.96l-1.37-1.37c-.4-.4-.92-.59-1.43-.59-.52 0-1.04.2-1.43.59L10.3 9.45l-7.72 7.72c-.78.78-.78 2.05 0 2.83L4 21.41c.39.39.9.59 1.41.59.51 0 1.02-.2 1.41-.59l7.78-7.78 2.81-2.81c.8-.78.8-2.07 0-2.86zM5.41 20L4 18.59l7.72-7.72 1.47 1.35L5.41 20z\"/>\n",
              "  </svg>\n",
              "      </button>\n",
              "      \n",
              "  <style>\n",
              "    .colab-df-container {\n",
              "      display:flex;\n",
              "      flex-wrap:wrap;\n",
              "      gap: 12px;\n",
              "    }\n",
              "\n",
              "    .colab-df-convert {\n",
              "      background-color: #E8F0FE;\n",
              "      border: none;\n",
              "      border-radius: 50%;\n",
              "      cursor: pointer;\n",
              "      display: none;\n",
              "      fill: #1967D2;\n",
              "      height: 32px;\n",
              "      padding: 0 0 0 0;\n",
              "      width: 32px;\n",
              "    }\n",
              "\n",
              "    .colab-df-convert:hover {\n",
              "      background-color: #E2EBFA;\n",
              "      box-shadow: 0px 1px 2px rgba(60, 64, 67, 0.3), 0px 1px 3px 1px rgba(60, 64, 67, 0.15);\n",
              "      fill: #174EA6;\n",
              "    }\n",
              "\n",
              "    [theme=dark] .colab-df-convert {\n",
              "      background-color: #3B4455;\n",
              "      fill: #D2E3FC;\n",
              "    }\n",
              "\n",
              "    [theme=dark] .colab-df-convert:hover {\n",
              "      background-color: #434B5C;\n",
              "      box-shadow: 0px 1px 3px 1px rgba(0, 0, 0, 0.15);\n",
              "      filter: drop-shadow(0px 1px 2px rgba(0, 0, 0, 0.3));\n",
              "      fill: #FFFFFF;\n",
              "    }\n",
              "  </style>\n",
              "\n",
              "      <script>\n",
              "        const buttonEl =\n",
              "          document.querySelector('#df-c32fef3b-2b64-4581-863e-12d4a94c4fcc button.colab-df-convert');\n",
              "        buttonEl.style.display =\n",
              "          google.colab.kernel.accessAllowed ? 'block' : 'none';\n",
              "\n",
              "        async function convertToInteractive(key) {\n",
              "          const element = document.querySelector('#df-c32fef3b-2b64-4581-863e-12d4a94c4fcc');\n",
              "          const dataTable =\n",
              "            await google.colab.kernel.invokeFunction('convertToInteractive',\n",
              "                                                     [key], {});\n",
              "          if (!dataTable) return;\n",
              "\n",
              "          const docLinkHtml = 'Like what you see? Visit the ' +\n",
              "            '<a target=\"_blank\" href=https://colab.research.google.com/notebooks/data_table.ipynb>data table notebook</a>'\n",
              "            + ' to learn more about interactive tables.';\n",
              "          element.innerHTML = '';\n",
              "          dataTable['output_type'] = 'display_data';\n",
              "          await google.colab.output.renderOutput(dataTable, element);\n",
              "          const docLink = document.createElement('div');\n",
              "          docLink.innerHTML = docLinkHtml;\n",
              "          element.appendChild(docLink);\n",
              "        }\n",
              "      </script>\n",
              "    </div>\n",
              "  </div>\n",
              "  "
            ]
          },
          "metadata": {},
          "execution_count": 4
        }
      ]
    },
    {
      "cell_type": "markdown",
      "source": [
        "# Modelo de Regrssão Linear Simples\n",
        "\n",
        "_O que queremos?_\n",
        "\n",
        "Qual o número de horas que um aluno obtenha uma nota boa?"
      ],
      "metadata": {
        "id": "JgHDKm-MD-h0"
      }
    },
    {
      "cell_type": "code",
      "source": [
        "# Treinando o nosso modelo de dados (Linear Regression)\n",
        "modelo = linear_model.LinearRegression()\n",
        "modelo.fit(x_values, y_values)"
      ],
      "metadata": {
        "colab": {
          "base_uri": "https://localhost:8080/"
        },
        "id": "76KQgzjOEQMf",
        "outputId": "c629b2b2-6ba3-4782-8e72-21f4c18cb020"
      },
      "execution_count": null,
      "outputs": [
        {
          "output_type": "execute_result",
          "data": {
            "text/plain": [
              "LinearRegression()"
            ]
          },
          "metadata": {},
          "execution_count": 5
        }
      ]
    },
    {
      "cell_type": "code",
      "source": [
        "# Coeficiente da reta\n",
        "# y = ax + b\n",
        "\n",
        "# Coeficiente da inclinação da linha de tendência (a)\n",
        "print(round(modelo.coef_[0][0], 2))\n",
        "\n",
        "# Ponto onde a linha de tendência atinge o eixo \"y\"\n",
        "print(round(modelo.intercept_[0], 2))"
      ],
      "metadata": {
        "colab": {
          "base_uri": "https://localhost:8080/"
        },
        "id": "m0ztJGE3Fg2i",
        "outputId": "19cd3220-e856-4e78-d2e6-f71adbff800d"
      },
      "execution_count": null,
      "outputs": [
        {
          "output_type": "stream",
          "name": "stdout",
          "text": [
            "1.81\n",
            "-6.74\n"
          ]
        }
      ]
    },
    {
      "cell_type": "code",
      "source": [
        "# Plotar um gráfico dos nossos dados\n",
        "plt.figure(1, figsize=(9,7))\n",
        "plt.scatter(df.x, df.y)\n",
        "\n",
        "# Desenhar o .fit()\n",
        "fit = np.polyfit(df.x.values, df.y.values, 1)\n",
        "fit_fn = np.poly1d(fit)\n",
        "\n",
        "# Monta a linha da regressão\n",
        "plt.plot(df.x.values, fit_fn(df.x.values), 'r')\n",
        "\n",
        "plt.show()"
      ],
      "metadata": {
        "colab": {
          "base_uri": "https://localhost:8080/",
          "height": 428
        },
        "id": "2vSHCinrFx0Y",
        "outputId": "3b38876a-a597-47ac-a699-8f6343453886"
      },
      "execution_count": null,
      "outputs": [
        {
          "output_type": "display_data",
          "data": {
            "text/plain": [
              "<Figure size 648x504 with 1 Axes>"
            ],
            "image/png": "[encoded data removed]"
          },
          "metadata": {
            "needs_background": "light"
          }
        }
      ]
    },
    {
      "cell_type": "code",
      "source": [
        "# Informar o valor que não está originalmente nos dados \n",
        "entrada = 6.2  # horas de estudo\n",
        "predicao = modelo.predict(np.array([[entrada]]))\n",
        "print('Nota Prevista:', predicao[0][0])"
      ],
      "metadata": {
        "colab": {
          "base_uri": "https://localhost:8080/"
        },
        "id": "CFrPrptyHT5L",
        "outputId": "ec4eb76c-8bb7-4d77-9b8f-7f5e3528eaf2"
      },
      "execution_count": null,
      "outputs": [
        {
          "output_type": "stream",
          "name": "stdout",
          "text": [
            "Nota Prevista: 4.502098811292715\n"
          ]
        }
      ]
    },
    {
      "cell_type": "code",
      "source": [
        "# Atividade Rápida\n",
        "# Reproduzir o código acima, aumentando o número de\n",
        "# entradas e saídas para 50\n",
        "\n",
        "dados = pd.read_csv(\n",
        "    \"https://www.edsonmelo.com.br/dados_csv/dados_regressao.csv\",\n",
        "    sep=',', header=None)\n",
        "dados.shape"
      ],
      "metadata": {
        "colab": {
          "base_uri": "https://localhost:8080/"
        },
        "id": "58sEkEtGJRtX",
        "outputId": "5b2d01bf-922a-4cd9-8347-22af65433d54"
      },
      "execution_count": null,
      "outputs": [
        {
          "output_type": "execute_result",
          "data": {
            "text/plain": [
              "(50, 2)"
            ]
          },
          "metadata": {},
          "execution_count": 9
        }
      ]
    },
    {
      "cell_type": "code",
      "source": [
        "# Elaborar o modelo\n",
        "df = pd.DataFrame()\n",
        "\n",
        "df['x'] = dados.values[:, 0]\n",
        "df['y'] = dados.values[:, -1]\n",
        "\n",
        "# Separando os dados em duas partes\n",
        "x_values = df[['x']] # Entrada\n",
        "y_values = df[['y']] # Saída\n",
        "\n",
        "modelo = linear_model.LinearRegression()\n",
        "modelo.fit(x_values, y_values)\n",
        "\n",
        "print('y = ax + b')\n",
        "print('a = %.2f => a inclinação da linha de tendência' % modelo.coef_[0][0])\n",
        "print('b = %.2f => o ponto onde a linha de tendência atinge o eixo y' % modelo.intercept_[0])\n",
        "\n",
        "plt.figure(1, figsize=(9,7))\n",
        "plt.scatter(df.x, df.y)\n",
        "\n",
        "fit = np.polyfit(df.x.values, df.y.values, 1)\n",
        "fit_fn = np.poly1d(fit)\n",
        "\n",
        "# Predição\n",
        "entrada = 1.58\n",
        "predicao = modelo.predict(np.array([[entrada]]))\n",
        "txt = 'h(θ0, 01) = ' + str(round(predicao[0][0],2))\n",
        "plt.annotate(txt, xy=(entrada, predicao), xytext=(5, 0.9),\n",
        "             arrowprops=dict(arrowstyle='->'))\n",
        "\n",
        "plt.axvline(x=entrada, ymin=0, ymax=predicao, ls='--',c='black')\n",
        "plt.axhline(y=predicao, ls='--', c='black')\n",
        "plt.plot(df.x.values, fit_fn(df.x.values), 'r')\n",
        "\n",
        "plt.show()"
      ],
      "metadata": {
        "colab": {
          "base_uri": "https://localhost:8080/",
          "height": 480
        },
        "id": "278-mxwALxLb",
        "outputId": "8c9d0b3e-3c7b-43ed-f502-75adf88616c2"
      },
      "execution_count": null,
      "outputs": [
        {
          "output_type": "stream",
          "name": "stdout",
          "text": [
            "y = ax + b\n",
            "a = 0.06 => a inclinação da linha de tendência\n",
            "b = 0.75 => o ponto onde a linha de tendência atinge o eixo y\n"
          ]
        },
        {
          "output_type": "display_data",
          "data": {
            "text/plain": [
              "<Figure size 648x504 with 1 Axes>"
            ],
            "image/png": "[encoded data removed]"
          },
          "metadata": {
            "needs_background": "light"
          }
        }
      ]
    },
    {
      "cell_type": "markdown",
      "source": [
        "![image.png](data:image/png;base64,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)"
      ],
      "metadata": {
        "id": "Au8GxQt4VaIu"
      }
    },
    {
      "cell_type": "code",
      "source": [
        "df.x.plot(kind='hist')"
      ],
      "metadata": {
        "colab": {
          "base_uri": "https://localhost:8080/",
          "height": 282
        },
        "id": "p5E6z1ZCV-JE",
        "outputId": "eabff085-1e33-49a9-d8d6-2bd6ab6312f5"
      },
      "execution_count": null,
      "outputs": [
        {
          "output_type": "execute_result",
          "data": {
            "text/plain": [
              "<matplotlib.axes._subplots.AxesSubplot at 0x7f4b02374c50>"
            ]
          },
          "metadata": {},
          "execution_count": 11
        },
        {
          "output_type": "display_data",
          "data": {
            "text/plain": [
              "<Figure size 432x288 with 1 Axes>"
            ],
            "image/png": "[encoded data removed]"
          },
          "metadata": {
            "needs_background": "light"
          }
        }
      ]
    },
    {
      "cell_type": "markdown",
      "source": [
        "# Biblioteca Stats Model"
      ],
      "metadata": {
        "id": "p6b87CMMWtgU"
      }
    },
    {
      "cell_type": "code",
      "source": [
        "import pandas as pd\n",
        "import numpy as np\n",
        "\n",
        "import seaborn as sns\n",
        "import matplotlib.pyplot as plt\n",
        "\n",
        "from sklearn.linear_model import LinearRegression\n",
        "from sklearn.metrics import r2_score\n",
        "\n",
        "import statsmodels.api as sm"
      ],
      "metadata": {
        "id": "LOpoBYKPWmLx"
      },
      "execution_count": null,
      "outputs": []
    },
    {
      "cell_type": "code",
      "source": [
        "df = pd.read_csv('https://www.edsonmelo.com.br/dados_csv/dados_midias.csv')\n",
        "df.shape"
      ],
      "metadata": {
        "colab": {
          "base_uri": "https://localhost:8080/"
        },
        "id": "FFMaeQsCWuzS",
        "outputId": "dd5582b7-95e0-4d90-c695-7cfbb755a514"
      },
      "execution_count": null,
      "outputs": [
        {
          "output_type": "execute_result",
          "data": {
            "text/plain": [
              "(200, 5)"
            ]
          },
          "metadata": {},
          "execution_count": 13
        }
      ]
    },
    {
      "cell_type": "code",
      "source": [
        "# Inspecionar o DataFrame\n",
        "df.head()"
      ],
      "metadata": {
        "colab": {
          "base_uri": "https://localhost:8080/",
          "height": 206
        },
        "id": "6d_fPSMcW6C5",
        "outputId": "ad644031-3112-4cf3-dc5f-736a030f79ed"
      },
      "execution_count": null,
      "outputs": [
        {
          "output_type": "execute_result",
          "data": {
            "text/plain": [
              "   seq     tv  radio  jornal  vendas\n",
              "0    1  230.1   37.8    69.2    22.1\n",
              "1    2   44.5   39.3    45.1    10.4\n",
              "2    3   17.2   45.9    69.3     9.3\n",
              "3    4  151.5   41.3    58.5    18.5\n",
              "4    5  180.8   10.8    58.4    12.9"
            ],
            "text/html": [
              "\n",
              "  <div id=\"df-998c7517-1ba8-42fc-8521-eaf5c24cd147\">\n",
              "    <div class=\"colab-df-container\">\n",
              "      <div>\n",
              "<style scoped>\n",
              "    .dataframe tbody tr th:only-of-type {\n",
              "        vertical-align: middle;\n",
              "    }\n",
              "\n",
              "    .dataframe tbody tr th {\n",
              "        vertical-align: top;\n",
              "    }\n",
              "\n",
              "    .dataframe thead th {\n",
              "        text-align: right;\n",
              "    }\n",
              "</style>\n",
              "<table border=\"1\" class=\"dataframe\">\n",
              "  <thead>\n",
              "    <tr style=\"text-align: right;\">\n",
              "      <th></th>\n",
              "      <th>seq</th>\n",
              "      <th>tv</th>\n",
              "      <th>radio</th>\n",
              "      <th>jornal</th>\n",
              "      <th>vendas</th>\n",
              "    </tr>\n",
              "  </thead>\n",
              "  <tbody>\n",
              "    <tr>\n",
              "      <th>0</th>\n",
              "      <td>1</td>\n",
              "      <td>230.1</td>\n",
              "      <td>37.8</td>\n",
              "      <td>69.2</td>\n",
              "      <td>22.1</td>\n",
              "    </tr>\n",
              "    <tr>\n",
              "      <th>1</th>\n",
              "      <td>2</td>\n",
              "      <td>44.5</td>\n",
              "      <td>39.3</td>\n",
              "      <td>45.1</td>\n",
              "      <td>10.4</td>\n",
              "    </tr>\n",
              "    <tr>\n",
              "      <th>2</th>\n",
              "      <td>3</td>\n",
              "      <td>17.2</td>\n",
              "      <td>45.9</td>\n",
              "      <td>69.3</td>\n",
              "      <td>9.3</td>\n",
              "    </tr>\n",
              "    <tr>\n",
              "      <th>3</th>\n",
              "      <td>4</td>\n",
              "      <td>151.5</td>\n",
              "      <td>41.3</td>\n",
              "      <td>58.5</td>\n",
              "      <td>18.5</td>\n",
              "    </tr>\n",
              "    <tr>\n",
              "      <th>4</th>\n",
              "      <td>5</td>\n",
              "      <td>180.8</td>\n",
              "      <td>10.8</td>\n",
              "      <td>58.4</td>\n",
              "      <td>12.9</td>\n",
              "    </tr>\n",
              "  </tbody>\n",
              "</table>\n",
              "</div>\n",
              "      <button class=\"colab-df-convert\" onclick=\"convertToInteractive('df-998c7517-1ba8-42fc-8521-eaf5c24cd147')\"\n",
              "              title=\"Convert this dataframe to an interactive table.\"\n",
              "              style=\"display:none;\">\n",
              "        \n",
              "  <svg xmlns=\"http://www.w3.org/2000/svg\" height=\"24px\"viewBox=\"0 0 24 24\"\n",
              "       width=\"24px\">\n",
              "    <path d=\"M0 0h24v24H0V0z\" fill=\"none\"/>\n",
              "    <path d=\"M18.56 5.44l.94 2.06.94-2.06 2.06-.94-2.06-.94-.94-2.06-.94 2.06-2.06.94zm-11 1L8.5 8.5l.94-2.06 2.06-.94-2.06-.94L8.5 2.5l-.94 2.06-2.06.94zm10 10l.94 2.06.94-2.06 2.06-.94-2.06-.94-.94-2.06-.94 2.06-2.06.94z\"/><path d=\"M17.41 7.96l-1.37-1.37c-.4-.4-.92-.59-1.43-.59-.52 0-1.04.2-1.43.59L10.3 9.45l-7.72 7.72c-.78.78-.78 2.05 0 2.83L4 21.41c.39.39.9.59 1.41.59.51 0 1.02-.2 1.41-.59l7.78-7.78 2.81-2.81c.8-.78.8-2.07 0-2.86zM5.41 20L4 18.59l7.72-7.72 1.47 1.35L5.41 20z\"/>\n",
              "  </svg>\n",
              "      </button>\n",
              "      \n",
              "  <style>\n",
              "    .colab-df-container {\n",
              "      display:flex;\n",
              "      flex-wrap:wrap;\n",
              "      gap: 12px;\n",
              "    }\n",
              "\n",
              "    .colab-df-convert {\n",
              "      background-color: #E8F0FE;\n",
              "      border: none;\n",
              "      border-radius: 50%;\n",
              "      cursor: pointer;\n",
              "      display: none;\n",
              "      fill: #1967D2;\n",
              "      height: 32px;\n",
              "      padding: 0 0 0 0;\n",
              "      width: 32px;\n",
              "    }\n",
              "\n",
              "    .colab-df-convert:hover {\n",
              "      background-color: #E2EBFA;\n",
              "      box-shadow: 0px 1px 2px rgba(60, 64, 67, 0.3), 0px 1px 3px 1px rgba(60, 64, 67, 0.15);\n",
              "      fill: #174EA6;\n",
              "    }\n",
              "\n",
              "    [theme=dark] .colab-df-convert {\n",
              "      background-color: #3B4455;\n",
              "      fill: #D2E3FC;\n",
              "    }\n",
              "\n",
              "    [theme=dark] .colab-df-convert:hover {\n",
              "      background-color: #434B5C;\n",
              "      box-shadow: 0px 1px 3px 1px rgba(0, 0, 0, 0.15);\n",
              "      filter: drop-shadow(0px 1px 2px rgba(0, 0, 0, 0.3));\n",
              "      fill: #FFFFFF;\n",
              "    }\n",
              "  </style>\n",
              "\n",
              "      <script>\n",
              "        const buttonEl =\n",
              "          document.querySelector('#df-998c7517-1ba8-42fc-8521-eaf5c24cd147 button.colab-df-convert');\n",
              "        buttonEl.style.display =\n",
              "          google.colab.kernel.accessAllowed ? 'block' : 'none';\n",
              "\n",
              "        async function convertToInteractive(key) {\n",
              "          const element = document.querySelector('#df-998c7517-1ba8-42fc-8521-eaf5c24cd147');\n",
              "          const dataTable =\n",
              "            await google.colab.kernel.invokeFunction('convertToInteractive',\n",
              "                                                     [key], {});\n",
              "          if (!dataTable) return;\n",
              "\n",
              "          const docLinkHtml = 'Like what you see? Visit the ' +\n",
              "            '<a target=\"_blank\" href=https://colab.research.google.com/notebooks/data_table.ipynb>data table notebook</a>'\n",
              "            + ' to learn more about interactive tables.';\n",
              "          element.innerHTML = '';\n",
              "          dataTable['output_type'] = 'display_data';\n",
              "          await google.colab.output.renderOutput(dataTable, element);\n",
              "          const docLink = document.createElement('div');\n",
              "          docLink.innerHTML = docLinkHtml;\n",
              "          element.appendChild(docLink);\n",
              "        }\n",
              "      </script>\n",
              "    </div>\n",
              "  </div>\n",
              "  "
            ]
          },
          "metadata": {},
          "execution_count": 14
        }
      ]
    },
    {
      "cell_type": "code",
      "source": [
        "# Apagando colunas desnecessárias\n",
        "df.drop(['seq'], axis=1)"
      ],
      "metadata": {
        "colab": {
          "base_uri": "https://localhost:8080/",
          "height": 424
        },
        "id": "SwNrUvApXE-K",
        "outputId": "a8aa5947-b238-45fe-c7a1-100cabfba8ad"
      },
      "execution_count": null,
      "outputs": [
        {
          "output_type": "execute_result",
          "data": {
            "text/plain": [
              "        tv  radio  jornal  vendas\n",
              "0    230.1   37.8    69.2    22.1\n",
              "1     44.5   39.3    45.1    10.4\n",
              "2     17.2   45.9    69.3     9.3\n",
              "3    151.5   41.3    58.5    18.5\n",
              "4    180.8   10.8    58.4    12.9\n",
              "..     ...    ...     ...     ...\n",
              "195   38.2    3.7    13.8     7.6\n",
              "196   94.2    4.9     8.1     9.7\n",
              "197  177.0    9.3     6.4    12.8\n",
              "198  283.6   42.0    66.2    25.5\n",
              "199  232.1    8.6     8.7    13.4\n",
              "\n",
              "[200 rows x 4 columns]"
            ],
            "text/html": [
              "\n",
              "  <div id=\"df-9a160e19-da41-40e2-9a98-d1760b4adb85\">\n",
              "    <div class=\"colab-df-container\">\n",
              "      <div>\n",
              "<style scoped>\n",
              "    .dataframe tbody tr th:only-of-type {\n",
              "        vertical-align: middle;\n",
              "    }\n",
              "\n",
              "    .dataframe tbody tr th {\n",
              "        vertical-align: top;\n",
              "    }\n",
              "\n",
              "    .dataframe thead th {\n",
              "        text-align: right;\n",
              "    }\n",
              "</style>\n",
              "<table border=\"1\" class=\"dataframe\">\n",
              "  <thead>\n",
              "    <tr style=\"text-align: right;\">\n",
              "      <th></th>\n",
              "      <th>tv</th>\n",
              "      <th>radio</th>\n",
              "      <th>jornal</th>\n",
              "      <th>vendas</th>\n",
              "    </tr>\n",
              "  </thead>\n",
              "  <tbody>\n",
              "    <tr>\n",
              "      <th>0</th>\n",
              "      <td>230.1</td>\n",
              "      <td>37.8</td>\n",
              "      <td>69.2</td>\n",
              "      <td>22.1</td>\n",
              "    </tr>\n",
              "    <tr>\n",
              "      <th>1</th>\n",
              "      <td>44.5</td>\n",
              "      <td>39.3</td>\n",
              "      <td>45.1</td>\n",
              "      <td>10.4</td>\n",
              "    </tr>\n",
              "    <tr>\n",
              "      <th>2</th>\n",
              "      <td>17.2</td>\n",
              "      <td>45.9</td>\n",
              "      <td>69.3</td>\n",
              "      <td>9.3</td>\n",
              "    </tr>\n",
              "    <tr>\n",
              "      <th>3</th>\n",
              "      <td>151.5</td>\n",
              "      <td>41.3</td>\n",
              "      <td>58.5</td>\n",
              "      <td>18.5</td>\n",
              "    </tr>\n",
              "    <tr>\n",
              "      <th>4</th>\n",
              "      <td>180.8</td>\n",
              "      <td>10.8</td>\n",
              "      <td>58.4</td>\n",
              "      <td>12.9</td>\n",
              "    </tr>\n",
              "    <tr>\n",
              "      <th>...</th>\n",
              "      <td>...</td>\n",
              "      <td>...</td>\n",
              "      <td>...</td>\n",
              "      <td>...</td>\n",
              "    </tr>\n",
              "    <tr>\n",
              "      <th>195</th>\n",
              "      <td>38.2</td>\n",
              "      <td>3.7</td>\n",
              "      <td>13.8</td>\n",
              "      <td>7.6</td>\n",
              "    </tr>\n",
              "    <tr>\n",
              "      <th>196</th>\n",
              "      <td>94.2</td>\n",
              "      <td>4.9</td>\n",
              "      <td>8.1</td>\n",
              "      <td>9.7</td>\n",
              "    </tr>\n",
              "    <tr>\n",
              "      <th>197</th>\n",
              "      <td>177.0</td>\n",
              "      <td>9.3</td>\n",
              "      <td>6.4</td>\n",
              "      <td>12.8</td>\n",
              "    </tr>\n",
              "    <tr>\n",
              "      <th>198</th>\n",
              "      <td>283.6</td>\n",
              "      <td>42.0</td>\n",
              "      <td>66.2</td>\n",
              "      <td>25.5</td>\n",
              "    </tr>\n",
              "    <tr>\n",
              "      <th>199</th>\n",
              "      <td>232.1</td>\n",
              "      <td>8.6</td>\n",
              "      <td>8.7</td>\n",
              "      <td>13.4</td>\n",
              "    </tr>\n",
              "  </tbody>\n",
              "</table>\n",
              "<p>200 rows × 4 columns</p>\n",
              "</div>\n",
              "      <button class=\"colab-df-convert\" onclick=\"convertToInteractive('df-9a160e19-da41-40e2-9a98-d1760b4adb85')\"\n",
              "              title=\"Convert this dataframe to an interactive table.\"\n",
              "              style=\"display:none;\">\n",
              "        \n",
              "  <svg xmlns=\"http://www.w3.org/2000/svg\" height=\"24px\"viewBox=\"0 0 24 24\"\n",
              "       width=\"24px\">\n",
              "    <path d=\"M0 0h24v24H0V0z\" fill=\"none\"/>\n",
              "    <path d=\"M18.56 5.44l.94 2.06.94-2.06 2.06-.94-2.06-.94-.94-2.06-.94 2.06-2.06.94zm-11 1L8.5 8.5l.94-2.06 2.06-.94-2.06-.94L8.5 2.5l-.94 2.06-2.06.94zm10 10l.94 2.06.94-2.06 2.06-.94-2.06-.94-.94-2.06-.94 2.06-2.06.94z\"/><path d=\"M17.41 7.96l-1.37-1.37c-.4-.4-.92-.59-1.43-.59-.52 0-1.04.2-1.43.59L10.3 9.45l-7.72 7.72c-.78.78-.78 2.05 0 2.83L4 21.41c.39.39.9.59 1.41.59.51 0 1.02-.2 1.41-.59l7.78-7.78 2.81-2.81c.8-.78.8-2.07 0-2.86zM5.41 20L4 18.59l7.72-7.72 1.47 1.35L5.41 20z\"/>\n",
              "  </svg>\n",
              "      </button>\n",
              "      \n",
              "  <style>\n",
              "    .colab-df-container {\n",
              "      display:flex;\n",
              "      flex-wrap:wrap;\n",
              "      gap: 12px;\n",
              "    }\n",
              "\n",
              "    .colab-df-convert {\n",
              "      background-color: #E8F0FE;\n",
              "      border: none;\n",
              "      border-radius: 50%;\n",
              "      cursor: pointer;\n",
              "      display: none;\n",
              "      fill: #1967D2;\n",
              "      height: 32px;\n",
              "      padding: 0 0 0 0;\n",
              "      width: 32px;\n",
              "    }\n",
              "\n",
              "    .colab-df-convert:hover {\n",
              "      background-color: #E2EBFA;\n",
              "      box-shadow: 0px 1px 2px rgba(60, 64, 67, 0.3), 0px 1px 3px 1px rgba(60, 64, 67, 0.15);\n",
              "      fill: #174EA6;\n",
              "    }\n",
              "\n",
              "    [theme=dark] .colab-df-convert {\n",
              "      background-color: #3B4455;\n",
              "      fill: #D2E3FC;\n",
              "    }\n",
              "\n",
              "    [theme=dark] .colab-df-convert:hover {\n",
              "      background-color: #434B5C;\n",
              "      box-shadow: 0px 1px 3px 1px rgba(0, 0, 0, 0.15);\n",
              "      filter: drop-shadow(0px 1px 2px rgba(0, 0, 0, 0.3));\n",
              "      fill: #FFFFFF;\n",
              "    }\n",
              "  </style>\n",
              "\n",
              "      <script>\n",
              "        const buttonEl =\n",
              "          document.querySelector('#df-9a160e19-da41-40e2-9a98-d1760b4adb85 button.colab-df-convert');\n",
              "        buttonEl.style.display =\n",
              "          google.colab.kernel.accessAllowed ? 'block' : 'none';\n",
              "\n",
              "        async function convertToInteractive(key) {\n",
              "          const element = document.querySelector('#df-9a160e19-da41-40e2-9a98-d1760b4adb85');\n",
              "          const dataTable =\n",
              "            await google.colab.kernel.invokeFunction('convertToInteractive',\n",
              "                                                     [key], {});\n",
              "          if (!dataTable) return;\n",
              "\n",
              "          const docLinkHtml = 'Like what you see? Visit the ' +\n",
              "            '<a target=\"_blank\" href=https://colab.research.google.com/notebooks/data_table.ipynb>data table notebook</a>'\n",
              "            + ' to learn more about interactive tables.';\n",
              "          element.innerHTML = '';\n",
              "          dataTable['output_type'] = 'display_data';\n",
              "          await google.colab.output.renderOutput(dataTable, element);\n",
              "          const docLink = document.createElement('div');\n",
              "          docLink.innerHTML = docLinkHtml;\n",
              "          element.appendChild(docLink);\n",
              "        }\n",
              "      </script>\n",
              "    </div>\n",
              "  </div>\n",
              "  "
            ]
          },
          "metadata": {},
          "execution_count": 16
        }
      ]
    },
    {
      "cell_type": "code",
      "source": [
        "# Plotar um gráfico dos dados brutos\n",
        "# Relação de vendas por anúncio em TV\n",
        "plt.figure(figsize=(12,6))\n",
        "plt.scatter(\n",
        "    df.tv,\n",
        "    df.vendas,\n",
        "    c='red'\n",
        ")\n",
        "\n",
        "plt.xlabel(' ($) Gasto com propaganda de TV')\n",
        "plt.ylabel(' ($) Vendas conferidas')\n",
        "plt.show()"
      ],
      "metadata": {
        "colab": {
          "base_uri": "https://localhost:8080/",
          "height": 342
        },
        "id": "b-u9GHS4XSil",
        "outputId": "9822d8ed-4faa-419b-d600-e5f802fe5615"
      },
      "execution_count": null,
      "outputs": [
        {
          "output_type": "display_data",
          "data": {
            "text/plain": [
              "<Figure size 864x432 with 1 Axes>"
            ],
            "image/png": "[encoded data removed]"
          },
          "metadata": {
            "needs_background": "light"
          }
        }
      ]
    },
    {
      "cell_type": "code",
      "source": [
        "# Traçando a linha de Regressão\n",
        "X = df.tv.values.reshape(-1,1)\n",
        "y = df.vendas.values.reshape(-1,1)\n",
        "reg = LinearRegression()\n",
        "reg.fit(X, y)\n",
        "\n",
        "previsoes = reg.predict(X)\n",
        "\n",
        "plt.figure(figsize=(12,6))\n",
        "plt.scatter(\n",
        "    df.tv,\n",
        "    df.vendas,\n",
        "    c='red'\n",
        ")\n",
        "\n",
        "plt.plot(\n",
        "    df.tv,\n",
        "    previsoes,\n",
        "    c='blue',\n",
        "    linewidth=3,\n",
        "    linestyle=':'\n",
        ")\n",
        "\n",
        "plt.xlabel(' ($) Gasto com propaganda de TV')\n",
        "plt.ylabel(' ($) Vendas conferidas')\n",
        "plt.show()"
      ],
      "metadata": {
        "colab": {
          "base_uri": "https://localhost:8080/",
          "height": 342
        },
        "id": "75WLlS7XYATr",
        "outputId": "d5090fa8-43de-4b5c-f80a-8736327b1d7e"
      },
      "execution_count": null,
      "outputs": [
        {
          "output_type": "display_data",
          "data": {
            "text/plain": [
              "<Figure size 864x432 with 1 Axes>"
            ],
            "image/png": "[encoded data removed]"
          },
          "metadata": {
            "needs_background": "light"
          }
        }
      ]
    },
    {
      "cell_type": "code",
      "source": [
        "# Avaliando o Modelo de Regressão\n",
        "X = df.tv\n",
        "y = df.vendas\n",
        "\n",
        "X2 = sm.add_constant(X) # definição do modelo pela Stats Model\n",
        "est = sm.OLS(y, X2) # estimador do modelo\n",
        "est2 = est.fit() # treinar o modelo para avaliação de desempenho\n",
        "print(est2.summary()) # mostrar a tabela com os resultados "
      ],
      "metadata": {
        "colab": {
          "base_uri": "https://localhost:8080/"
        },
        "id": "nL4pU5a-aBOv",
        "outputId": "ca1c8114-379f-438f-d9b8-54f45147db8c"
      },
      "execution_count": null,
      "outputs": [
        {
          "output_type": "stream",
          "name": "stdout",
          "text": [
            "                            OLS Regression Results                            \n",
            "==============================================================================\n",
            "Dep. Variable:                 vendas   R-squared:                       0.612\n",
            "Model:                            OLS   Adj. R-squared:                  0.610\n",
            "Method:                 Least Squares   F-statistic:                     312.1\n",
            "Date:                Mon, 16 May 2022   Prob (F-statistic):           1.47e-42\n",
            "Time:                        22:37:00   Log-Likelihood:                -519.05\n",
            "No. Observations:                 200   AIC:                             1042.\n",
            "Df Residuals:                     198   BIC:                             1049.\n",
            "Df Model:                           1                                         \n",
            "Covariance Type:            nonrobust                                         \n",
            "==============================================================================\n",
            "                 coef    std err          t      P>|t|      [0.025      0.975]\n",
            "------------------------------------------------------------------------------\n",
            "const          7.0326      0.458     15.360      0.000       6.130       7.935\n",
            "tv             0.0475      0.003     17.668      0.000       0.042       0.053\n",
            "==============================================================================\n",
            "Omnibus:                        0.531   Durbin-Watson:                   1.935\n",
            "Prob(Omnibus):                  0.767   Jarque-Bera (JB):                0.669\n",
            "Skew:                          -0.089   Prob(JB):                        0.716\n",
            "Kurtosis:                       2.779   Cond. No.                         338.\n",
            "==============================================================================\n",
            "\n",
            "Warnings:\n",
            "[1] Standard Errors assume that the covariance matrix of the errors is correctly specified.\n"
          ]
        }
      ]
    },
    {
      "cell_type": "code",
      "source": [
        "# A tabela acima indica que o R² apresenta um valor de 0.612, isso quer dizer\n",
        "# que aproximadamente 61% do comportamento da variável \"Vendas\" é explicado\n",
        "# pela variavel \"Tv\"\n",
        "\n",
        "# Obs. 1: Hipótese nula é a proposição de que não há efeito ou relação entre\n",
        "# fenômenos (variáveis) ou populações.\n",
        "\n",
        "# Analisando o p-value na tabela, percebe-se que o seu valor é aproximado de zero.\n",
        "# Assim, foi enconberto pelo arredondamento e isso nos faz \"rejeitar\" a\n",
        "# hipótese nula.\n",
        "\n",
        "# Obs. 2: Um p-value < 0,05 (5%) significa que a hipótese nula é falsa"
      ],
      "metadata": {
        "id": "X_4xBIRCbCii"
      },
      "execution_count": null,
      "outputs": []
    },
    {
      "cell_type": "markdown",
      "source": [
        "# Regressão Linear Múltipla"
      ],
      "metadata": {
        "id": "6dYRG88qFEAQ"
      }
    },
    {
      "cell_type": "code",
      "source": [
        "df.head()"
      ],
      "metadata": {
        "colab": {
          "base_uri": "https://localhost:8080/",
          "height": 206
        },
        "id": "p53jTKaoFX1T",
        "outputId": "6ed4c390-921c-4cc7-b999-f63066b4e481"
      },
      "execution_count": null,
      "outputs": [
        {
          "output_type": "execute_result",
          "data": {
            "text/plain": [
              "   seq     tv  radio  jornal  vendas\n",
              "0    1  230.1   37.8    69.2    22.1\n",
              "1    2   44.5   39.3    45.1    10.4\n",
              "2    3   17.2   45.9    69.3     9.3\n",
              "3    4  151.5   41.3    58.5    18.5\n",
              "4    5  180.8   10.8    58.4    12.9"
            ],
            "text/html": [
              "\n",
              "  <div id=\"df-51b6f970-6698-4e48-a2c0-6e6e983d81b6\">\n",
              "    <div class=\"colab-df-container\">\n",
              "      <div>\n",
              "<style scoped>\n",
              "    .dataframe tbody tr th:only-of-type {\n",
              "        vertical-align: middle;\n",
              "    }\n",
              "\n",
              "    .dataframe tbody tr th {\n",
              "        vertical-align: top;\n",
              "    }\n",
              "\n",
              "    .dataframe thead th {\n",
              "        text-align: right;\n",
              "    }\n",
              "</style>\n",
              "<table border=\"1\" class=\"dataframe\">\n",
              "  <thead>\n",
              "    <tr style=\"text-align: right;\">\n",
              "      <th></th>\n",
              "      <th>seq</th>\n",
              "      <th>tv</th>\n",
              "      <th>radio</th>\n",
              "      <th>jornal</th>\n",
              "      <th>vendas</th>\n",
              "    </tr>\n",
              "  </thead>\n",
              "  <tbody>\n",
              "    <tr>\n",
              "      <th>0</th>\n",
              "      <td>1</td>\n",
              "      <td>230.1</td>\n",
              "      <td>37.8</td>\n",
              "      <td>69.2</td>\n",
              "      <td>22.1</td>\n",
              "    </tr>\n",
              "    <tr>\n",
              "      <th>1</th>\n",
              "      <td>2</td>\n",
              "      <td>44.5</td>\n",
              "      <td>39.3</td>\n",
              "      <td>45.1</td>\n",
              "      <td>10.4</td>\n",
              "    </tr>\n",
              "    <tr>\n",
              "      <th>2</th>\n",
              "      <td>3</td>\n",
              "      <td>17.2</td>\n",
              "      <td>45.9</td>\n",
              "      <td>69.3</td>\n",
              "      <td>9.3</td>\n",
              "    </tr>\n",
              "    <tr>\n",
              "      <th>3</th>\n",
              "      <td>4</td>\n",
              "      <td>151.5</td>\n",
              "      <td>41.3</td>\n",
              "      <td>58.5</td>\n",
              "      <td>18.5</td>\n",
              "    </tr>\n",
              "    <tr>\n",
              "      <th>4</th>\n",
              "      <td>5</td>\n",
              "      <td>180.8</td>\n",
              "      <td>10.8</td>\n",
              "      <td>58.4</td>\n",
              "      <td>12.9</td>\n",
              "    </tr>\n",
              "  </tbody>\n",
              "</table>\n",
              "</div>\n",
              "      <button class=\"colab-df-convert\" onclick=\"convertToInteractive('df-51b6f970-6698-4e48-a2c0-6e6e983d81b6')\"\n",
              "              title=\"Convert this dataframe to an interactive table.\"\n",
              "              style=\"display:none;\">\n",
              "        \n",
              "  <svg xmlns=\"http://www.w3.org/2000/svg\" height=\"24px\"viewBox=\"0 0 24 24\"\n",
              "       width=\"24px\">\n",
              "    <path d=\"M0 0h24v24H0V0z\" fill=\"none\"/>\n",
              "    <path d=\"M18.56 5.44l.94 2.06.94-2.06 2.06-.94-2.06-.94-.94-2.06-.94 2.06-2.06.94zm-11 1L8.5 8.5l.94-2.06 2.06-.94-2.06-.94L8.5 2.5l-.94 2.06-2.06.94zm10 10l.94 2.06.94-2.06 2.06-.94-2.06-.94-.94-2.06-.94 2.06-2.06.94z\"/><path d=\"M17.41 7.96l-1.37-1.37c-.4-.4-.92-.59-1.43-.59-.52 0-1.04.2-1.43.59L10.3 9.45l-7.72 7.72c-.78.78-.78 2.05 0 2.83L4 21.41c.39.39.9.59 1.41.59.51 0 1.02-.2 1.41-.59l7.78-7.78 2.81-2.81c.8-.78.8-2.07 0-2.86zM5.41 20L4 18.59l7.72-7.72 1.47 1.35L5.41 20z\"/>\n",
              "  </svg>\n",
              "      </button>\n",
              "      \n",
              "  <style>\n",
              "    .colab-df-container {\n",
              "      display:flex;\n",
              "      flex-wrap:wrap;\n",
              "      gap: 12px;\n",
              "    }\n",
              "\n",
              "    .colab-df-convert {\n",
              "      background-color: #E8F0FE;\n",
              "      border: none;\n",
              "      border-radius: 50%;\n",
              "      cursor: pointer;\n",
              "      display: none;\n",
              "      fill: #1967D2;\n",
              "      height: 32px;\n",
              "      padding: 0 0 0 0;\n",
              "      width: 32px;\n",
              "    }\n",
              "\n",
              "    .colab-df-convert:hover {\n",
              "      background-color: #E2EBFA;\n",
              "      box-shadow: 0px 1px 2px rgba(60, 64, 67, 0.3), 0px 1px 3px 1px rgba(60, 64, 67, 0.15);\n",
              "      fill: #174EA6;\n",
              "    }\n",
              "\n",
              "    [theme=dark] .colab-df-convert {\n",
              "      background-color: #3B4455;\n",
              "      fill: #D2E3FC;\n",
              "    }\n",
              "\n",
              "    [theme=dark] .colab-df-convert:hover {\n",
              "      background-color: #434B5C;\n",
              "      box-shadow: 0px 1px 3px 1px rgba(0, 0, 0, 0.15);\n",
              "      filter: drop-shadow(0px 1px 2px rgba(0, 0, 0, 0.3));\n",
              "      fill: #FFFFFF;\n",
              "    }\n",
              "  </style>\n",
              "\n",
              "      <script>\n",
              "        const buttonEl =\n",
              "          document.querySelector('#df-51b6f970-6698-4e48-a2c0-6e6e983d81b6 button.colab-df-convert');\n",
              "        buttonEl.style.display =\n",
              "          google.colab.kernel.accessAllowed ? 'block' : 'none';\n",
              "\n",
              "        async function convertToInteractive(key) {\n",
              "          const element = document.querySelector('#df-51b6f970-6698-4e48-a2c0-6e6e983d81b6');\n",
              "          const dataTable =\n",
              "            await google.colab.kernel.invokeFunction('convertToInteractive',\n",
              "                                                     [key], {});\n",
              "          if (!dataTable) return;\n",
              "\n",
              "          const docLinkHtml = 'Like what you see? Visit the ' +\n",
              "            '<a target=\"_blank\" href=https://colab.research.google.com/notebooks/data_table.ipynb>data table notebook</a>'\n",
              "            + ' to learn more about interactive tables.';\n",
              "          element.innerHTML = '';\n",
              "          dataTable['output_type'] = 'display_data';\n",
              "          await google.colab.output.renderOutput(dataTable, element);\n",
              "          const docLink = document.createElement('div');\n",
              "          docLink.innerHTML = docLinkHtml;\n",
              "          element.appendChild(docLink);\n",
              "        }\n",
              "      </script>\n",
              "    </div>\n",
              "  </div>\n",
              "  "
            ]
          },
          "metadata": {},
          "execution_count": 21
        }
      ]
    },
    {
      "cell_type": "code",
      "source": [
        "# importar as bibliotecas\n",
        "from sklearn.linear_model import LinearRegression\n",
        "from sklearn.metrics import r2_score\n",
        "import statsmodels.api as smimport\n",
        "import numpy as np\n",
        "\n",
        "# Selecionar todas as colunas para o modelo\n",
        "X = np.column_stack((df.tv, df.radio, df.jornal)) # Variáveis independentes\n",
        "\n",
        "y = df.vendas # Variável dependente"
      ],
      "metadata": {
        "id": "wFpdoYPHFDmP"
      },
      "execution_count": null,
      "outputs": []
    },
    {
      "cell_type": "code",
      "source": [
        "# Analisando o modelo\n",
        "X2 = sm.add_constant(X) # definição do modelo pela Stats Model\n",
        "est = sm.OLS(y, X2) # estimador do modelo\n",
        "est2 = est.fit() # treinar o modelo para avaliação de desempenho\n",
        "print(est2.summary()) # mostrar a tabela com os resultados do modelo"
      ],
      "metadata": {
        "colab": {
          "base_uri": "https://localhost:8080/"
        },
        "id": "igNp1ftgFrbF",
        "outputId": "7f02b5d8-b5f1-48de-98aa-46d0b311fa9d"
      },
      "execution_count": null,
      "outputs": [
        {
          "output_type": "stream",
          "name": "stdout",
          "text": [
            "                            OLS Regression Results                            \n",
            "==============================================================================\n",
            "Dep. Variable:                 vendas   R-squared:                       0.897\n",
            "Model:                            OLS   Adj. R-squared:                  0.896\n",
            "Method:                 Least Squares   F-statistic:                     570.3\n",
            "Date:                Mon, 16 May 2022   Prob (F-statistic):           1.58e-96\n",
            "Time:                        23:10:17   Log-Likelihood:                -386.18\n",
            "No. Observations:                 200   AIC:                             780.4\n",
            "Df Residuals:                     196   BIC:                             793.6\n",
            "Df Model:                           3                                         \n",
            "Covariance Type:            nonrobust                                         \n",
            "==============================================================================\n",
            "                 coef    std err          t      P>|t|      [0.025      0.975]\n",
            "------------------------------------------------------------------------------\n",
            "const          2.9389      0.312      9.422      0.000       2.324       3.554\n",
            "x1             0.0458      0.001     32.809      0.000       0.043       0.049\n",
            "x2             0.1885      0.009     21.893      0.000       0.172       0.206\n",
            "x3            -0.0010      0.006     -0.177      0.860      -0.013       0.011\n",
            "==============================================================================\n",
            "Omnibus:                       60.414   Durbin-Watson:                   2.084\n",
            "Prob(Omnibus):                  0.000   Jarque-Bera (JB):              151.241\n",
            "Skew:                          -1.327   Prob(JB):                     1.44e-33\n",
            "Kurtosis:                       6.332   Cond. No.                         454.\n",
            "==============================================================================\n",
            "\n",
            "Warnings:\n",
            "[1] Standard Errors assume that the covariance matrix of the errors is correctly specified.\n"
          ]
        }
      ]
    },
    {
      "cell_type": "code",
      "source": [
        "# Observe que agora que foram utilizadas três variáveis, temos um modelo bem\n",
        "# melhor. Isso porque percebemos que aproximadamente 90% dos resultados em\n",
        "# vendas são explicados pelas variáveis.\n",
        "\n",
        "# A variável x3 (jornal) possui um p-value muito alto, ou seja, não influencia\n",
        "# no modelo (hipótese nula é verdadeira).\n",
        "\n",
        "# Observando o feste (F-Statistic), podemos verificar quq a amostra tem alta\n",
        "# variância, assim pode ser explicada pelo número pequeno de observações."
      ],
      "metadata": {
        "id": "OlylUu9yGaTB"
      },
      "execution_count": null,
      "outputs": []
    },
    {
      "cell_type": "markdown",
      "source": [
        "# Atividade \n",
        "Utilizando o dataset \"PETR4.csv\", aplicar um modelo de Regressão Linear sobre os dados e apresentar uma interpretação deles.\n",
        "\n",
        "Exibir os dados da regeressão em gráficos\n",
        "\n"
      ],
      "metadata": {
        "id": "oc7rOFEkK80h"
      }
    },
    {
      "cell_type": "code",
      "source": [
        "import pandas as pd\n",
        "import numpy as np\n",
        "import matplotlib.pyplot as plt\n",
        "from sklearn import linear_model\n",
        "\n",
        "%matplotlib inline"
      ],
      "metadata": {
        "id": "orIwefwlLgFC"
      },
      "execution_count": null,
      "outputs": []
    },
    {
      "cell_type": "code",
      "source": [
        "df = pd.read_csv('/content/PETR4.SA.csv')"
      ],
      "metadata": {
        "id": "VFnBsxGFLiGS"
      },
      "execution_count": null,
      "outputs": []
    },
    {
      "cell_type": "code",
      "source": [
        "df.info()"
      ],
      "metadata": {
        "colab": {
          "base_uri": "https://localhost:8080/"
        },
        "id": "lX6DfjeCLkse",
        "outputId": "dce2f26e-d330-4c48-a19c-d1f18fd25e4b"
      },
      "execution_count": null,
      "outputs": [
        {
          "output_type": "stream",
          "name": "stdout",
          "text": [
            "<class 'pandas.core.frame.DataFrame'>\n",
            "RangeIndex: 249 entries, 0 to 248\n",
            "Data columns (total 7 columns):\n",
            " #   Column     Non-Null Count  Dtype  \n",
            "---  ------     --------------  -----  \n",
            " 0   Date       249 non-null    object \n",
            " 1   Open       249 non-null    float64\n",
            " 2   High       249 non-null    float64\n",
            " 3   Low        249 non-null    float64\n",
            " 4   Close      249 non-null    float64\n",
            " 5   Adj Close  249 non-null    float64\n",
            " 6   Volume     249 non-null    int64  \n",
            "dtypes: float64(5), int64(1), object(1)\n",
            "memory usage: 13.7+ KB\n"
          ]
        }
      ]
    },
    {
      "cell_type": "code",
      "source": [
        "df.drop(['Date'], axis='columns', inplace=True)\n",
        "df.head()"
      ],
      "metadata": {
        "colab": {
          "base_uri": "https://localhost:8080/",
          "height": 206
        },
        "id": "-aPuB2W1T1gU",
        "outputId": "065aed4a-956a-4bf4-925d-c4a71a6be2ba"
      },
      "execution_count": null,
      "outputs": [
        {
          "output_type": "execute_result",
          "data": {
            "text/plain": [
              "        Open       High    Low      Close  Adj Close    Volume\n",
              "0  27.500000  27.580000  26.91  27.000000  20.966322  22738500\n",
              "1  27.010000  27.059999  26.40  26.900000  20.888672  30936600\n",
              "2  26.680000  27.350000  26.58  27.219999  21.137163  24306800\n",
              "3  27.200001  27.459999  27.01  27.110001  21.051748  24328800\n",
              "4  27.020000  27.180000  26.73  26.730000  20.756662  17453800"
            ],
            "text/html": [
              "\n",
              "  <div id=\"df-124be00d-ee29-4ab4-aa84-e457c3261826\">\n",
              "    <div class=\"colab-df-container\">\n",
              "      <div>\n",
              "<style scoped>\n",
              "    .dataframe tbody tr th:only-of-type {\n",
              "        vertical-align: middle;\n",
              "    }\n",
              "\n",
              "    .dataframe tbody tr th {\n",
              "        vertical-align: top;\n",
              "    }\n",
              "\n",
              "    .dataframe thead th {\n",
              "        text-align: right;\n",
              "    }\n",
              "</style>\n",
              "<table border=\"1\" class=\"dataframe\">\n",
              "  <thead>\n",
              "    <tr style=\"text-align: right;\">\n",
              "      <th></th>\n",
              "      <th>Open</th>\n",
              "      <th>High</th>\n",
              "      <th>Low</th>\n",
              "      <th>Close</th>\n",
              "      <th>Adj Close</th>\n",
              "      <th>Volume</th>\n",
              "    </tr>\n",
              "  </thead>\n",
              "  <tbody>\n",
              "    <tr>\n",
              "      <th>0</th>\n",
              "      <td>27.500000</td>\n",
              "      <td>27.580000</td>\n",
              "      <td>26.91</td>\n",
              "      <td>27.000000</td>\n",
              "      <td>20.966322</td>\n",
              "      <td>22738500</td>\n",
              "    </tr>\n",
              "    <tr>\n",
              "      <th>1</th>\n",
              "      <td>27.010000</td>\n",
              "      <td>27.059999</td>\n",
              "      <td>26.40</td>\n",
              "      <td>26.900000</td>\n",
              "      <td>20.888672</td>\n",
              "      <td>30936600</td>\n",
              "    </tr>\n",
              "    <tr>\n",
              "      <th>2</th>\n",
              "      <td>26.680000</td>\n",
              "      <td>27.350000</td>\n",
              "      <td>26.58</td>\n",
              "      <td>27.219999</td>\n",
              "      <td>21.137163</td>\n",
              "      <td>24306800</td>\n",
              "    </tr>\n",
              "    <tr>\n",
              "      <th>3</th>\n",
              "      <td>27.200001</td>\n",
              "      <td>27.459999</td>\n",
              "      <td>27.01</td>\n",
              "      <td>27.110001</td>\n",
              "      <td>21.051748</td>\n",
              "      <td>24328800</td>\n",
              "    </tr>\n",
              "    <tr>\n",
              "      <th>4</th>\n",
              "      <td>27.020000</td>\n",
              "      <td>27.180000</td>\n",
              "      <td>26.73</td>\n",
              "      <td>26.730000</td>\n",
              "      <td>20.756662</td>\n",
              "      <td>17453800</td>\n",
              "    </tr>\n",
              "  </tbody>\n",
              "</table>\n",
              "</div>\n",
              "      <button class=\"colab-df-convert\" onclick=\"convertToInteractive('df-124be00d-ee29-4ab4-aa84-e457c3261826')\"\n",
              "              title=\"Convert this dataframe to an interactive table.\"\n",
              "              style=\"display:none;\">\n",
              "        \n",
              "  <svg xmlns=\"http://www.w3.org/2000/svg\" height=\"24px\"viewBox=\"0 0 24 24\"\n",
              "       width=\"24px\">\n",
              "    <path d=\"M0 0h24v24H0V0z\" fill=\"none\"/>\n",
              "    <path d=\"M18.56 5.44l.94 2.06.94-2.06 2.06-.94-2.06-.94-.94-2.06-.94 2.06-2.06.94zm-11 1L8.5 8.5l.94-2.06 2.06-.94-2.06-.94L8.5 2.5l-.94 2.06-2.06.94zm10 10l.94 2.06.94-2.06 2.06-.94-2.06-.94-.94-2.06-.94 2.06-2.06.94z\"/><path d=\"M17.41 7.96l-1.37-1.37c-.4-.4-.92-.59-1.43-.59-.52 0-1.04.2-1.43.59L10.3 9.45l-7.72 7.72c-.78.78-.78 2.05 0 2.83L4 21.41c.39.39.9.59 1.41.59.51 0 1.02-.2 1.41-.59l7.78-7.78 2.81-2.81c.8-.78.8-2.07 0-2.86zM5.41 20L4 18.59l7.72-7.72 1.47 1.35L5.41 20z\"/>\n",
              "  </svg>\n",
              "      </button>\n",
              "      \n",
              "  <style>\n",
              "    .colab-df-container {\n",
              "      display:flex;\n",
              "      flex-wrap:wrap;\n",
              "      gap: 12px;\n",
              "    }\n",
              "\n",
              "    .colab-df-convert {\n",
              "      background-color: #E8F0FE;\n",
              "      border: none;\n",
              "      border-radius: 50%;\n",
              "      cursor: pointer;\n",
              "      display: none;\n",
              "      fill: #1967D2;\n",
              "      height: 32px;\n",
              "      padding: 0 0 0 0;\n",
              "      width: 32px;\n",
              "    }\n",
              "\n",
              "    .colab-df-convert:hover {\n",
              "      background-color: #E2EBFA;\n",
              "      box-shadow: 0px 1px 2px rgba(60, 64, 67, 0.3), 0px 1px 3px 1px rgba(60, 64, 67, 0.15);\n",
              "      fill: #174EA6;\n",
              "    }\n",
              "\n",
              "    [theme=dark] .colab-df-convert {\n",
              "      background-color: #3B4455;\n",
              "      fill: #D2E3FC;\n",
              "    }\n",
              "\n",
              "    [theme=dark] .colab-df-convert:hover {\n",
              "      background-color: #434B5C;\n",
              "      box-shadow: 0px 1px 3px 1px rgba(0, 0, 0, 0.15);\n",
              "      filter: drop-shadow(0px 1px 2px rgba(0, 0, 0, 0.3));\n",
              "      fill: #FFFFFF;\n",
              "    }\n",
              "  </style>\n",
              "\n",
              "      <script>\n",
              "        const buttonEl =\n",
              "          document.querySelector('#df-124be00d-ee29-4ab4-aa84-e457c3261826 button.colab-df-convert');\n",
              "        buttonEl.style.display =\n",
              "          google.colab.kernel.accessAllowed ? 'block' : 'none';\n",
              "\n",
              "        async function convertToInteractive(key) {\n",
              "          const element = document.querySelector('#df-124be00d-ee29-4ab4-aa84-e457c3261826');\n",
              "          const dataTable =\n",
              "            await google.colab.kernel.invokeFunction('convertToInteractive',\n",
              "                                                     [key], {});\n",
              "          if (!dataTable) return;\n",
              "\n",
              "          const docLinkHtml = 'Like what you see? Visit the ' +\n",
              "            '<a target=\"_blank\" href=https://colab.research.google.com/notebooks/data_table.ipynb>data table notebook</a>'\n",
              "            + ' to learn more about interactive tables.';\n",
              "          element.innerHTML = '';\n",
              "          dataTable['output_type'] = 'display_data';\n",
              "          await google.colab.output.renderOutput(dataTable, element);\n",
              "          const docLink = document.createElement('div');\n",
              "          docLink.innerHTML = docLinkHtml;\n",
              "          element.appendChild(docLink);\n",
              "        }\n",
              "      </script>\n",
              "    </div>\n",
              "  </div>\n",
              "  "
            ]
          },
          "metadata": {},
          "execution_count": 40
        }
      ]
    },
    {
      "cell_type": "code",
      "source": [
        "# separando os dados\n",
        "\n",
        "dados = pd.DataFrame()\n",
        "dados['x'] = df.values[:, 0]\n",
        "dados['y'] = df.values[:, -1]"
      ],
      "metadata": {
        "id": "ncyn5qinVA2n"
      },
      "execution_count": null,
      "outputs": []
    },
    {
      "cell_type": "code",
      "source": [
        "modelo = linear_model.LinearRegression()\n",
        "modelo.fit(x_values, y_values)"
      ],
      "metadata": {
        "colab": {
          "base_uri": "https://localhost:8080/"
        },
        "id": "YhHX2mN3VB6t",
        "outputId": "6c820c40-33df-437c-cd3a-1ea84c09b11a"
      },
      "execution_count": null,
      "outputs": [
        {
          "output_type": "execute_result",
          "data": {
            "text/plain": [
              "LinearRegression()"
            ]
          },
          "metadata": {},
          "execution_count": 42
        }
      ]
    },
    {
      "cell_type": "code",
      "source": [
        "X = np.column_stack((df.Open, df.High, df.Low, df.Close, df['Adj Close']))\n",
        "y = df.Volume\n",
        "\n",
        "X2 = sm.add_constant(X) # definição do modelo pela Stats Model\n",
        "est = sm.OLS(y, X2) # estimador do modelo\n",
        "est2 = est.fit() # treinar o modelo para avaliação de desempenho\n",
        "print(est2.summary()) # mostrar a tabela com os resultados do modelo"
      ],
      "metadata": {
        "colab": {
          "base_uri": "https://localhost:8080/"
        },
        "id": "rmYW2R80VSb-",
        "outputId": "838a506d-f7d6-4ee5-86fb-17fd4409a304"
      },
      "execution_count": null,
      "outputs": [
        {
          "output_type": "stream",
          "name": "stdout",
          "text": [
            "                            OLS Regression Results                            \n",
            "==============================================================================\n",
            "Dep. Variable:                 Volume   R-squared:                       0.438\n",
            "Model:                            OLS   Adj. R-squared:                  0.426\n",
            "Method:                 Least Squares   F-statistic:                     37.87\n",
            "Date:                Tue, 17 May 2022   Prob (F-statistic):           1.19e-28\n",
            "Time:                        00:49:30   Log-Likelihood:                -4556.0\n",
            "No. Observations:                 249   AIC:                             9124.\n",
            "Df Residuals:                     243   BIC:                             9145.\n",
            "Df Model:                           5                                         \n",
            "Covariance Type:            nonrobust                                         \n",
            "==============================================================================\n",
            "                 coef    std err          t      P>|t|      [0.025      0.975]\n",
            "------------------------------------------------------------------------------\n",
            "const       5.904e+07   2.33e+07      2.534      0.012    1.31e+07    1.05e+08\n",
            "x1         -4.435e+06   5.79e+06     -0.765      0.445   -1.58e+07    6.98e+06\n",
            "x2          4.594e+07   6.59e+06      6.966      0.000    3.29e+07    5.89e+07\n",
            "x3         -5.169e+07   6.06e+06     -8.523      0.000   -6.36e+07   -3.97e+07\n",
            "x4          1.048e+07   5.89e+06      1.779      0.077   -1.12e+06    2.21e+07\n",
            "x5         -1.408e+06   9.01e+05     -1.564      0.119   -3.18e+06    3.66e+05\n",
            "==============================================================================\n",
            "Omnibus:                      108.043   Durbin-Watson:                   1.392\n",
            "Prob(Omnibus):                  0.000   Jarque-Bera (JB):              718.759\n",
            "Skew:                           1.578   Prob(JB):                    8.38e-157\n",
            "Kurtosis:                      10.702   Cond. No.                     1.09e+03\n",
            "==============================================================================\n",
            "\n",
            "Warnings:\n",
            "[1] Standard Errors assume that the covariance matrix of the errors is correctly specified.\n",
            "[2] The condition number is large, 1.09e+03. This might indicate that there are\n",
            "strong multicollinearity or other numerical problems.\n"
          ]
        }
      ]
    },
    {
      "cell_type": "code",
      "source": [
        "X = np.column_stack((df.High, df.Low))\n",
        "y = df.Volume\n",
        "\n",
        "X2 = sm.add_constant(X) # definição do modelo pela Stats Model\n",
        "est = sm.OLS(y, X2) # estimador do modelo\n",
        "est2 = est.fit() # treinar o modelo para avaliação de desempenho\n",
        "print(est2.summary()) # mostrar a tabela com os resultados do modelo"
      ],
      "metadata": {
        "colab": {
          "base_uri": "https://localhost:8080/"
        },
        "id": "zYjSLsdcaFDT",
        "outputId": "1ef55e74-03d6-4260-dea4-2758c10efad7"
      },
      "execution_count": null,
      "outputs": [
        {
          "output_type": "stream",
          "name": "stdout",
          "text": [
            "                            OLS Regression Results                            \n",
            "==============================================================================\n",
            "Dep. Variable:                 Volume   R-squared:                       0.416\n",
            "Model:                            OLS   Adj. R-squared:                  0.411\n",
            "Method:                 Least Squares   F-statistic:                     87.68\n",
            "Date:                Tue, 17 May 2022   Prob (F-statistic):           1.78e-29\n",
            "Time:                        00:50:18   Log-Likelihood:                -4560.8\n",
            "No. Observations:                 249   AIC:                             9128.\n",
            "Df Residuals:                     246   BIC:                             9138.\n",
            "Df Model:                           2                                         \n",
            "Covariance Type:            nonrobust                                         \n",
            "==============================================================================\n",
            "                 coef    std err          t      P>|t|      [0.025      0.975]\n",
            "------------------------------------------------------------------------------\n",
            "const       8.565e+07   1.64e+07      5.217      0.000    5.33e+07    1.18e+08\n",
            "x1          4.598e+07   3.47e+06     13.231      0.000    3.91e+07    5.28e+07\n",
            "x2         -4.775e+07   3.63e+06    -13.156      0.000   -5.49e+07   -4.06e+07\n",
            "==============================================================================\n",
            "Omnibus:                      100.763   Durbin-Watson:                   1.373\n",
            "Prob(Omnibus):                  0.000   Jarque-Bera (JB):              619.953\n",
            "Skew:                           1.476   Prob(JB):                    2.39e-135\n",
            "Kurtosis:                      10.144   Cond. No.                         492.\n",
            "==============================================================================\n",
            "\n",
            "Warnings:\n",
            "[1] Standard Errors assume that the covariance matrix of the errors is correctly specified.\n"
          ]
        }
      ]
    },
    {
      "cell_type": "code",
      "source": [
        ""
      ],
      "metadata": {
        "id": "gHaw_Jm0asyL"
      },
      "execution_count": null,
      "outputs": []
    }
  ]
}